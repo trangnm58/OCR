{
 "cells": [
  {
   "cell_type": "code",
   "execution_count": 3,
   "metadata": {
    "collapsed": true
   },
   "outputs": [],
   "source": [
    "import os\n",
    "import random\n",
    "import cv2"
   ]
  },
  {
   "cell_type": "code",
   "execution_count": 4,
   "metadata": {},
   "outputs": [
    {
     "name": "stdout",
     "output_type": "stream",
     "text": [
      "['0', '1', '2', '3', '4', '5', '6', '7', '8', '9', 'a00', 'a01', 'a02', 'a03', 'a04', 'a05', 'a10', 'a11', 'a12', 'a13', 'a14', 'a15', 'a20', 'a21', 'a22', 'a23', 'a24', 'a25', 'b', 'c', 'd0', 'd1', 'e00', 'e01', 'e02', 'e03', 'e04', 'e05', 'e10', 'e11', 'e12', 'e13', 'e14', 'e15', 'f', 'g', 'h', 'i00', 'i01', 'i02', 'i03', 'i04', 'i05', 'j', 'k', 'l', 'm', 'n', 'o00', 'o01', 'o02', 'o03', 'o04', 'o05', 'o10', 'o11', 'o12', 'o13', 'o14', 'o15', 'o20', 'o21', 'o22', 'o23', 'o24', 'o25', 'p', 'q', 'r', 's', 't', 'u00', 'u01', 'u02', 'u03', 'u04', 'u05', 'u10', 'u11', 'u12', 'u13', 'u14', 'u15', 'v', 'w', 'x', 'y00', 'y01', 'y02', 'y03', 'y04', 'y05', 'z', '_a00', '_a01', '_a02', '_a03', '_a04', '_a05', '_a10', '_a11', '_a12', '_a13', '_a14', '_a15', '_a20', '_a21', '_a22', '_a23', '_a24', '_a25', '_b', '_c', '_d0', '_d1', '_e00', '_e01', '_e02', '_e03', '_e04', '_e05', '_e10', '_e11', '_e12', '_e13', '_e14', '_e15', '_f', '_g', '_h', '_i00', '_i01', '_i02', '_i03', '_i04', '_i05', '_j', '_k', '_l', '_m', '_n', '_o00', '_o01', '_o02', '_o03', '_o04', '_o05', '_o10', '_o11', '_o12', '_o13', '_o14', '_o15', '_o20', '_o21', '_o22', '_o23', '_o24', '_o25', '_p', '_q', '_r', '_s', '_t', '_u00', '_u01', '_u02', '_u03', '_u04', '_u05', '_u10', '_u11', '_u12', '_u13', '_u14', '_u15', '_v', '_w', '_x', '_y00', '_y01', '_y02', '_y03', '_y04', '_y05', '_z']\n"
     ]
    }
   ],
   "source": [
    "data = \"chars74k_img_good_sample_vie\"\n",
    "num_samples = 10\n",
    "\n",
    "all_labels = os.listdir(data)\n",
    "print(all_labels)"
   ]
  },
  {
   "cell_type": "code",
   "execution_count": 5,
   "metadata": {},
   "outputs": [
    {
     "name": "stdout",
     "output_type": "stream",
     "text": [
      "134\n",
      "['a01', 'a02', 'a03', 'a04', 'a05', 'a10', 'a11', 'a12', 'a13', 'a14', 'a15', 'a20', 'a21', 'a22', 'a23', 'a24', 'a25', 'd1', 'e01', 'e02', 'e03', 'e04', 'e05', 'e10', 'e11', 'e12', 'e13', 'e14', 'e15', 'i01', 'i02', 'i03', 'i04', 'i05', 'o01', 'o02', 'o03', 'o04', 'o05', 'o10', 'o11', 'o12', 'o13', 'o14', 'o15', 'o20', 'o21', 'o22', 'o23', 'o24', 'o25', 'u01', 'u02', 'u03', 'u04', 'u05', 'u10', 'u11', 'u12', 'u13', 'u14', 'u15', 'y01', 'y02', 'y03', 'y04', 'y05', '_a01', '_a02', '_a03', '_a04', '_a05', '_a10', '_a11', '_a12', '_a13', '_a14', '_a15', '_a20', '_a21', '_a22', '_a23', '_a24', '_a25', '_d1', '_e01', '_e02', '_e03', '_e04', '_e05', '_e10', '_e11', '_e12', '_e13', '_e14', '_e15', '_i01', '_i02', '_i03', '_i04', '_i05', '_o01', '_o02', '_o03', '_o04', '_o05', '_o10', '_o11', '_o12', '_o13', '_o14', '_o15', '_o20', '_o21', '_o22', '_o23', '_o24', '_o25', '_u01', '_u02', '_u03', '_u04', '_u05', '_u10', '_u11', '_u12', '_u13', '_u14', '_u15', '_y01', '_y02', '_y03', '_y04', '_y05']\n"
     ]
    }
   ],
   "source": [
    "need_sampling = []\n",
    "for l in all_labels:\n",
    "    if len(l) == 1 or l == 'd0' or l == '_d0' or l[-2::1] == '00' or (len(l)==2 and l[0] == '_'):\n",
    "        continue\n",
    "    else:\n",
    "        need_sampling.append(l)\n",
    "print(len(need_sampling))\n",
    "print(need_sampling)"
   ]
  },
  {
   "cell_type": "code",
   "execution_count": 6,
   "metadata": {
    "collapsed": true
   },
   "outputs": [],
   "source": [
    "def sampling(need_sampling, num_samples):\n",
    "    for l in need_sampling:\n",
    "        names = os.listdir(\"{}/{}\".format(data, l))\n",
    "        keep_names = random.sample(names, num_samples)\n",
    "        for n in names:\n",
    "            if n not in keep_names:\n",
    "                os.remove(\"{}/{}/{}\".format(data, l, n))"
   ]
  },
  {
   "cell_type": "code",
   "execution_count": 7,
   "metadata": {},
   "outputs": [],
   "source": [
    "def resize_all(need_sampling):\n",
    "    for l in need_sampling:\n",
    "        for i in os.listdir(\"{}/{}\".format(data, l)):\n",
    "            src = \"{}/{}/{}\".format(data, l, i)\n",
    "            img = cv2.imread(src, cv2.IMREAD_GRAYSCALE)\n",
    "            if img.shape[0:2] != (28, 28):\n",
    "                img = cv2.resize(img, (28, 28), interpolation=cv2.INTER_CUBIC)\n",
    "                cv2.imwrite(src, img)\n",
    "resize_all(need_sampling)"
   ]
  },
  {
   "cell_type": "code",
   "execution_count": null,
   "metadata": {
    "collapsed": true
   },
   "outputs": [],
   "source": [
    ""
   ]
  }
 ],
 "metadata": {
  "kernelspec": {
   "display_name": "Python [conda root]",
   "language": "python",
   "name": "conda-root-py"
  },
  "language_info": {
   "codemirror_mode": {
    "name": "ipython",
    "version": 3.0
   },
   "file_extension": ".py",
   "mimetype": "text/x-python",
   "name": "python",
   "nbconvert_exporter": "python",
   "pygments_lexer": "ipython3",
   "version": "3.5.3"
  }
 },
 "nbformat": 4,
 "nbformat_minor": 0
}