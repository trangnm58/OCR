{
 "cells": [
  {
   "cell_type": "code",
   "execution_count": 8,
   "metadata": {
    "collapsed": true
   },
   "outputs": [],
   "source": [
    "with open('output.txt', 'r', encoding='utf8') as f:\n",
    "    output = f.read().split()\n",
    "\n",
    "with open('data/vn_token_dict.txt', 'r', encoding='utf8') as f:\n",
    "    dic = f.read().split()\n",
    "\n",
    "total = len(output)\n",
    "count_match = 0\n",
    "wrong_words = []"
   ]
  },
  {
   "cell_type": "code",
   "execution_count": 9,
   "metadata": {
    "collapsed": true
   },
   "outputs": [],
   "source": [
    "dic = [i.lower() for i in dic]\n",
    "\n",
    "for w in output:\n",
    "    if w.lower() in dic:\n",
    "        count_match += 1\n",
    "    else:\n",
    "        wrong_words.append(w.lower())"
   ]
  },
  {
   "cell_type": "code",
   "execution_count": 10,
   "metadata": {},
   "outputs": [
    {
     "name": "stdout",
     "output_type": "stream",
     "text": [
      "14809\n",
      "13103\n",
      "0.8847997839151868\n"
     ]
    }
   ],
   "source": [
    "print(total)\n",
    "print(count_match)\n",
    "print(count_match / total)"
   ]
  },
  {
   "cell_type": "code",
   "execution_count": 11,
   "metadata": {},
   "outputs": [
    {
     "name": "stdout",
     "output_type": "stream",
     "text": [
      "['thoài', 'phưỡng', 'nhính', 'xuông', 'ngẩy', 'chưộp', 'nù', 'ní', 'luy', 'ngắp', 'đoa', 'toạn', 'đũ', 'đụ', 'điêm', 'chíchgô', 'phàu', 'nhưỡn', 'hoắn', 'ua', 'tráy', 'nhứa', 'mính', 'điêm', 'rúa', 'vính', 'xoản', 'đụ', 'phớp', 'đụ', 'mưông', 'giắp', 'kịu', 'poluya', 'ngắp', 'khoánh', 'súm', 'láclê', 'vim', 'nưu', 'khôm', 'xiu', 'vứa', 'gim', 'lổi', 'tưởn', 'nguếch', 'chéng', 'lentô', 'luột', 'hệu', 'sủn', 'lống', 'lnốc', 'véctô', 'typê', 'ủm', 'xưồng', 'cới', 'cuời', 'toay', 'dếch', 'tòẽ', 'biêm', 'cườn', 'lưồng', 'ớp', 'nủ', 'truyễn', 'xrây', 'đờb', 'phốt', 'toay', 'mắp', 'dệch', 'điễu', 'nhòè', 'khuợt', 'chưôi', 'sàigon', 'giănbông', 'víệtanh', 'dèo', 'lôn', 'bidà', 'thuy', 'nhoa', 'phướu', 'thẹt', 'cắcte', 'sêm', 'rĩnh', 'mướng', 'mưôn', 'trộp', 'nhòè', 'sưồng', 'xết', 'uới', 'giơi', 'tưồng', 'nẫm', 'toai', 'tưồng', 'sêm', 'mêu', 'sưồng', 'khôm', 'trõng', 'tùn', 'điêm', 'sóp', 'ghẹt', 'nôivụ', 'rưồi', 'hiêu', 'lơm', 'goa', 'lống', 'quố', 'vâu', 'phày', 'thuy', 'viễng', 'mùm', 'đíu', 'dôn', 'khươu', 'hoăn', 'thoài', 'đụ', 'phưỡng', 'súm', 'huệch', 'pôint', 'mùm', 'sưồng', 'khém', 'nời', 'đặm', 'nhịch', 'gốt', 'giến', 'huềnh', 'gước', 'híu', 'varô', 'recort', 'rắng', 'nuôm', 'xứt', 'mởm', 'luờm', 'thôm', 'már', 'vưa', 'khuôm', 'vụa', 'nuới', 'coáp', 'dxplorer', 'pháu', 'gàm', 'amip', 'tưôn', 'nía', 'chướt', 'huếnh', 'tưởm', 'applết', 'resqurce', 'sưồng', 'áuto', 'nướp', 'vưồng', 'xắng', 'nuới', 'tuới', 'vưồng', 'dignon', 'xốm', 'quáy', 'closé', 'rố', 'choe', 'wininkey', 'nưối', 'nhặc', 'xuông', 'nụp', 'choắp', 'ngườn', 'chipsét', 'ngụi', 'chuiến', 'xân', 'soai', 'đoa', 'trưu', 'muợt', 'hã', 'gin', 'micrô', 'mềnh', 'ngưồi', 'hoanh', 'ngôm', 'rẹp', 'tite', 'lưông', 'cuộm', 'niêng', 'hướu', 'khưu', 'nun', 'huềnh', 'xứa', 'uan', 'vình', 'vính', 'xoản', 'kìu', 'yêm', 'áthlon', 'choại', 'giêm', 'trột', 'rổm', 'mùm', 'vụa', 'luy', 'nướp', 'tưốc', 'liết', 'phẳn', 'hoái', 'tơnô', 'mốp', 'kìmh', 'nhòi', 'uơ', 'tắb', 'riêm', 'aít', 'ngoẹt', 'gong', 'đoãi', 'mắp', 'quyêu', 'xoách', 'mapan', 'xigà', 'rưồi', 'gồn', 'lưôm', 'quệu', 'dáp', 'xuợc', 'trìa', 'nía', 'khôm', 'tởi', 'chượt', 'chủi', 'mìm', 'ghồng', 'hiêm', 'giồn', 'ní', 'tưốc', 'băngkok', 'muới', 'phư', 'tưồng', 'lổi', 'xắng', 'ênh', 'asaka', 'gồn', 'mưỗng', 'giễ', 'môdec', 'vốt', 'tuẩn', 'chứt', 'dob', 'tưồng', 'ghome', 'nhoa', 'khẩm', 'tở', 'kin', 'buốc', 'phồi', 'phàu', 'nghĩu', 'trắn', 'oam', 'xưốc', 'vính', 'chổn', 'phẳn', 'yêm', 'nguỵu', 'phẹp', 'luất', 'coloege', 'xiga', 'xuông', 'cuời', 'mớt', 'khuơn', 'bâm', 'chin', 'mưông', 'bạng', 'liện', 'trưu', 'dất', 'tráy', 'choe', 'sòn', 'giót', 'mùm', 'òxi', 'tưu', 'chổ', 'guồm', 'thưộc', 'vưồng', 'tơnô', 'kái', 'ỉnh', 'chin', 'đâng', 'bía', 'bếch', 'nòm', 'nhoa', 'đướng', 'đìm', 'boắt', 'óà', 'phiêm', 'giếu', 'chuênh', 'thìm', 'lươi', 'đưới', 'giớp', 'kìu', 'đốctơ', 'cove', 'sưồng', 'hoẳng', 'gile', 'gưồng', 'xưông', 'luyêu', 'xưông', 'quênh', 'ngom', 'khẩm', 'đuật', 'nhẳm', 'rặp', 'phêu', 'kĩnh', 'vâu', 'nhẳm', 'đưốt', 'frôm', 'chứt', 'suớt', 'giưa', 'biêm', 'khươu', 'đoa', 'one', 'giẹt', 'ưôn', 'vín', 'nhúi', 'tở', 'đặm', 'ĩu', 'bắm', 'bớn', 'woek', 'khôm', 'bưôm', 'tưồng', 'toay', 'khoảy', 'luo', 'phẳm', 'đệch', 'firmtare', 'suyên', 'kakô', 'háp', 'rẹp', 'vứa', 'choa', 'dẩy', 'thuỡn', 'xike', 'vưôn', 'quáy', 'gamã', 'cớp', 'nễ', 'thẳn', 'chưỡn', 'đưới', 'hép', 'nghịa', 'nhiệu', 'virut', 'uơng', 'tưồi', 'nùm', 'luột', 'thuy', 'xín', 'hoẳng', 'chách', 'vôvinam', 'vèn', 'hưa', 'thuy', 'chại', 'đé', 'mốp', 'khủi', 'cuồm', 'đoa', 'lôn', 'luột', 'hắp', 'vước', 'thuỡn', 'nhuy', 'điêm', 'printere', 'passpoit', 'sươi', 'vuốc', 'thưồng', 'rúa', 'chuần', 'nhước', 'khủm', 'rưôn', 'suớt', 'nhoăm', 'xàn', 'đìm', 'overviee', 'biêu', 'chọm', 'nhuy', 'shớp', 'hiêu', 'lưôn', 'sùn', 'loxo', 'fentium', 'sòn', 'identíty', 'tườn', 'sêm', 'phồi', 'xưông', 'noan', 'lưồng', 'lưồng', 'bưôm', 'vếm', 'điễu', 'bưôn', 'sưong', 'lía', 'suời', 'thuy', 'chổ', 'mượp', 'luy', 'xưốc', 'firemire', 'thìm', 'điễu', 'xiu', 'wininkey', 'ôignôn', 'lưôn', 'xày', 'xắcđin', 'nhễu', 'fay', 'gồn', 'tở', 'jaqz', 'giâng', 'ngôm', 'nhứa', 'cườn', 'đuợt', 'acceet', 'foland', 'quẳn', 'giũi', 'xưồng', 'phồi', 'copylept', 'biêu', 'camen', 'lống', 'thụa', 'pheng', 'rưồi', 'bưôm', 'giồn', 'gờlf', 'hiêm', 'ngẩu', 'quẳn', 'mhụ', 'giẫu', 'quênh', 'chách', 'nhước', 'bôxing', 'ngoản', 'lakarta', 'điêm', 'chổ', 'thoài', 'hẹo', 'tặt', 'bidông', 'mĩnh', 'dét', 'đụ', 'sẹp', 'búm', 'thuy', 'yêm', 'xiu', 'mưối', 'phàu', 'viềm', 'khoắc', 'gách', 'cặc', 'geneve', 'xalim', 'đặm', 'xôgarít', 'tren', 'irao', 'tặt', 'vụa', 'hippi', 'kin', 'xáu', 'thuy', 'virtuai', 'khôm', 'nhổi', 'xeng', 'tacxô', 'rưôn', 'rươn', 'lran', 'ngoẹt', 'prơ', 'máp', 'hêu', 'sia', 'thôm', 'trổn', 'rịu', 'hanôi', 'ngẩu', 'khiếr', 'vởi', 'vụm', 'đẫu', 'chàu', 'lôn', 'thoắn', 'đưống', 'nướt', 'khôm', 'choa', 'nưong', 'lun', 'ngắng', 'nộc', 'nhém', 'nhẳm', 'khéc', 'canôn', 'tưộc', 'máp', 'craqler', 'giân', 'đuớt', 'sistem', 'mắp', 'đưống', 'sưồng', 'madiid', 'kernei', 'lống', 'lưột', 'đũ', 'buốc', 'sời', 'thuỡn', 'lnốc', 'phụa', 'buôm', 'khưu', 'goi', 'khớt', 'lía', 'quôta', 'lước', 'dắm', 'nhĩnh', 'sĩnh', 'lưôn', 'hẹt', 'nghịa', 'lịt', 'rada', 'vưông', 'ôlip', 'posd', 'khòe', 'truc', 'đuồng', 'duyết', 'giồn', 'búm', 'gồn', 'nuôm', 'phẫm', 'quuyệt', 'đụ', 'tưốc', 'buôm', 'giambông', 'đặm', 'đũ', 'vốt', 'nhẳm', 'anâu', 'xề', 'huợm', 'lịt', 'boạt', 'goa', 'ngôm', 'phẳn', 'bưôn', 'đụ', 'quẳn', 'nhoày', 'lổi', 'họt', 'ves', 'quáy', 'tònô', 'sơi', 'khễu', 'xalù', 'dổi', 'nuống', 'tohô', 'chứt', 'bượu', 'ledương', 'hưôm', 'kìmh', 'dèo', 'choát', 'thớp', 'hiêm', 'xàn', 'quáy', 'đưới', 'ngụi', 'sưồng', 'hippi', 'chổn', 'nhòi', 'pán', 'nhệch', 'ngoen', 'phuợc', 'triên', 'lổi', 'gin', 'praduct', 'vôvinam', 'thuỡn', 'macàrông', 'háp', 'điêm', 'phướu', 'giọn', 'vim', 'bda', 'khôm', 'sem', 'xàn', 'sêm', 'lịp', 'khót', 'gưồm', 'hắm', 'raoi', 'luơn', 'việtnhát', 'ghiđơng', 'điệt', 'nhặc', 'nụp', 'chụa', 'khôm', 'sịc', 'lcon', 'giến', 'choắn', 'chuần', 'điva', 'tuệnh', 'lẹc', 'mớt', 'hĩ', 'ớp', 'syrĩa', 'rênh', 'nhẳm', 'ladôn', 'quêu', 'thĩnh', 'bẩu', 'lưông', 'overvien', 'xuôm', 'phíu', 'toày', 'osteite', 'ưôn', 'viêng', 'bướt', 'jết', 'phảnh', 'đặm', 'boitor', 'đơi', 'đũm', 'rột', 'sia', 'giút', 'xưới', 'muôm', 'lentô', 'xiêng', 'khứt', 'rắng', 'choạt', 'chía', 'nghĩu', 'khịch', 'ghẹt', 'luy', 'đân', 'giụp', 'thuy', 'rưôn', 'ngắp', 'thưộc', 'nìke', 'ôpen', 'bưôi', 'gin', 'đép', 'tưồi', 'đết', 'thuy', 'hã', 'nhĩnh', 'vởi', 'thẹt', 'tapan', 'rưôm', 'mẳng', 'nhẳm', 'nghiết', 'pêrê', 'riếng', 'khươu', 'giễn', 'thưồn', 'aumỹ', 'thôm', 'montaly', 'sia', 'đụ', 'hoăn', 'điết', 'vâu', 'đoa', 'tưồi', 'pốp', 'khổi', 'phiêm', 'viếc', 'quớc', 'xoăm', 'hía', 'chuy', 'cáctô', 'casinô', 'rội', 'xịa', 'giùn', 'hắp', 'đặm', 'quáy', 'tòè', 'americat', 'háp', 'mafimize', 'điễu', 'ghẹt', 'yeng', 'giéc', 'phẫy', 'quáy', 'sáy', 'thoài', 'phóp', 'cớp', 'uých', 'fắn', 'khoảy', 'phớp', 'bướt', 'uitra', 'đưới', 'sưồng', 'chưộc', 'sưôn', 'jobe', 'giột', 'vifi', 'vính', 'ớp', 'chũng', 'suơi', 'bítiet', 'nía', 'rôbot', 'phễnh', 'moirang', 'vệnh', 'xày', 'xiu', 'môirang', 'quợy', 'toành', 'hoẳng', 'đoa', 'hoẳng', 'roadmáp', 'lequs', 'trịu', 'hưốc', 'tươu', 'bâm', 'hăn', 'ổm', 'thuy', 'gưồm', 'khịch', 'bượu', 'thưồng', 'khéc', 'mĩnh', 'khoáo', 'kìmh', 'rưồng', 'mĩnh', 'đụ', 'khôm', 'vùm', 'khứt', 'đưốc', 'cóm', 'noan', 'vèn', 'sáy', 'sối', 'xalim', 'xắcđin', 'trặt', 'xân', 'chòè', 'cuôm', 'fú', 'sìm', 'chìn', 'côngtô', 'vưốc', 'nhũm', 'tơnô', 'pêrê', 'hiêm', 'nắt', 'bưồng', 'chờng', 'mỹviết', 'đụ', 'ngẩy', 'lưốc', 'phít', 'đúi', 'hĩ', 'chía', 'nắt', 'hẹt', 'đăn', 'lĩ', 'nikôn', 'đoãi', 'bẩu', 'khổi', 'tụp', 'xuôm', 'đướng', 'xèm', 'sounô', 'nghịa', 'trưột', 'soai', 'tườn', 'phêu', 'nhẳm', 'khễu', 'khịch', 'rưôm', 'đoát', 'saubôn', 'thẳn', 'vâu', 'khễ', 'nhễu', 'lưông', 'cafe', 'mưông', 'nhêu', 'rĩnh', 'phêu', 'xìn', 'lống', 'khổi', 'đuơi', 'foltage', 'ngôm', 'nhịch', 'rui', 'nủi', 'giũi', 'nù', 'nikôn', 'cớp', 'điêm', 'quâu', 'hịu', 'đặm', 'mặng', 'virut', 'luất', 'thuỡn', 'trưu', 'hạy', 'valee', 'dọt', 'nhuy', 'ngôm', 'nhẳm', 'khuế', 'pheng', 'épphe', 'đũm', 'étring', 'xùn', 'nghĩu', 'rươu', 'nuôm', 'canôn', 'choáp', 'lun', 'vem', 'nghĩu', 'rênh', 'ngối', 'giờm', 'đụ', 'choắp', 'choa', 'luới', 'rởi', 'trắn', 'bâm', 'khổi', 'nưốc', 'viêng', 'jero', 'xết', 'đưỡng', 'đuỗi', 'phùi', 'canôn', 'côngtô', 'hotmbil', 'đụ', 'vâu', 'muới', 'ngòe', 'rưồn', 'aesus', 'nghĩu', 'nhính', 'bìn', 'recister', 'môdem', 'nhẳm', 'sisu', 'tưồng', 'cưộp', 'socola', 'thuoc', 'mưôn', 'khuế', 'choen', 'mốp', 'gưồng', 'thuy', 'iẹt', 'rui', 'việp', 'trõng', 'đặm', 'chuy', 'cõm', 'mĩnh', 'nganh', 'ngưồi', 'hippi', 'nhũi', 'vính', 'đụa', 'nhoa', 'ngối', 'bim', 'phẳn', 'thuy', 'pheng', 'phẳm', 'trắp', 'cắctô', 'khễ', 'biêu', 'rướt', 'meng', 'khoẻo', 'bưông', 'suyên', 'loành', 'sưồng', 'phơm', 'côngtô', 'đũ', 'tộp', 'gióp', 'hĩ', 'đụ', 'chách', 'hoai', 'thuy', 'nọp', 'ngoam', 'côrép', 'luơn', 'luới', 'tuệnh', 'wár', 'bìn', 'chuênh', 'nưốc', 'phuỡn', 'giúc', 'infô', 'giắp', 'tuẩn', 'nộng', 'hiêm', 'rĩnh', 'newe', 'gưồng', 'nững', 'tưồi', 'pheng', 'riếng', 'hẹt', 'rướt', 'thìm', 'thôm', 'mềday', 'khoẻo', 'dít', 'soàng', 'thuy', 'pôm', 'lống', 'đưới', 'sìa', 'gọp', 'hỹviệt', 'nú', 'đướt', 'giến', 'tyrê', 'đoa', 'ghít', 'khốt', 'viễng', 'tren', 'thĩnh', 'xìn', 'nhoa', 'xalim', 'phưông', 'rẹp', 'giếp', 'đìn', 'bụg', 'đoãi', 'nghĩu', 'kễ', 'mapathon', 'khôm', 'đụ', 'licenge', 'vụa', 'pôint', 'khủm', 'xưông', 'vâu', 'tưồng', 'vácxin', 'đép', 'hẹt', 'rôneo', 'giẫn', 'mẳng', 'diếgo', 'donnldad', 'thuợt', 'khủi', 'khịch', 'điêm', 'choắp', 'bâm', 'hóe', 'chuênh', 'mớt', 'buớt', 'suớt', 'phài', 'quáy', 'tite', 'thưồm', 'giúc', 'xắng', 'đưỗi', 'trắn', 'vốt', 'đưỗm', 'giến', 'xưông', 'nhẳm', 'viễng', 'chàu', 'sùn', 'hươm', 'rẹp', 'mắp', 'tuờm', 'nhặc', 'khở', 'mụa', 'mỹviết', 'tặt', 'mùm', 'xèm', 'hịu', 'súi', 'sùn', 'vưồng', 'giọn', 'trĩa', 'khéc', 'soai', 'uých', 'điễu', 'ngôm', 'xắng', 'tuợt', 'phài', 'lưồng', 'quẩu', 'văm', 'hoẳng', 'nglôn', 'thĩ', 'quáy', 'bạng', 'thôm', 'nhưởng', 'maternoi', 'biêu', 'nía', 'chin', 'cuới', 'tennit', 'thịa', 'thẳn', 'cóm', 'hẻ', 'vính', 'giâng', 'đuới', 'vưởn', 'đoa', 'ueload', 'hắm', 'pheng', 'monitoi', 'niêng', 'quệu', 'gưồng', 'fergonal', 'muột', 'nĩ', 'sơi', 'gióp', 'giảy', 'đưỗi', 'nhễnh', 'yêm', 'hoẳng', 'gốt', 'vụa', 'hắm', 'thẹt', 'nhẳm', 'đoãi', 'dokia', 'rắng', 'khuớt', 'nhịa', 'nhưốc', 'lỉ', 'thuỡn', 'rắng', 'cuồm', 'đụa', 'quầm', 'macàrông', 'ngôm', 'sôm', 'ghẹt', 'trìa', 'neos', 'rưồi', 'chách', 'giân', 'ghít', 'thàng', 'ngắp', 'rẹp', 'nẹo', 'thôm', 'quoát', 'xắng', 'giụp', 'torônto', 'bễu', 'hăn', 'têl', 'rưột', 'cóm', 'xưông', 'khưng', 'chuần', 'sưồng', 'nhễu', 'thủn', 'lêđương', 'chuyễn', 'tùn', 'xoách', 'toành', 'đụ', 'khủi', 'thuy', 'goa', 'betecode', 'bướt', 'nú', 'thịa', 'rênh', 'jẹt', 'ngoam', 'áuto', 'aoxô', 'tòẽ', 'gốt', 'thẳn', 'luy', 'vâu', 'nhịa', 'sôn', 'nĩnh', 'cóm', 'phài', 'gốp', 'chin', 'riêm', 'bếch', 'dôkê', 'điệt', 'búm', 'nĩ', 'thứt', 'ngưội', 'luy', 'thuy', 'lỉ', 'hĩ', 'dói', 'dắm', 'buôm', 'phẳn', 'phít', 'hêu', 'viêng', 'hẹt', 'shifi', 'vụa', 'tuệnh', 'thôm', 'khòe', 'rênh', 'thíu', 'xưồng', 'síc', 'rênh', 'ngoãi', 'phẳn', 'thưồn', 'nận', 'tuôm', 'nắt', 'chuênh', 'thuột', 'ghèm', 'chố', 'phia', 'ưne', 'lống', 'điệt', 'khổi', 'đẹc', 'pap', 'liết', 'nhĩnh', 'quáy', 'trới', 'khẩm', 'nhước', 'xún', 'chổ', 'xuới', 'thưởn', 'oẳm', 'đướng', 'huyệnh', 'thìm', 'xắcđin', 'giếu', 'letel', 'thôm', 'giót', 'điết', 'formát', 'oam', 'ướn', 'rố', 'choen', 'po', 'ănbom', 'ớp', 'luột', 'giẵng', 'thuột', 'quáy', 'xưông', 'môiròm', 'nhẳm', 'copylppt', 'vưốc', 'lưông', 'mêu', 'nũm', 'sia', 'gơi', 'đôngtay', 'quẳn', 'chứt', 'vể', 'xủy', 'côngtô', 'cóm', 'nhước', 'lưôi', 'phày', 'toay', 'hoanh', 'rưôm', 'caobôi', 'cuồm', 'tưồng', 'ghẹp', 'trửa', 'uých', 'băngkok', 'questton', 'gước', 'khưng', 'khoáo', 'outiook', 'madzid', 'shoh', 'éàphê', 'tnput', 'nù', 'giụp', 'chưộp', 'ngôm', 'ngắp', 'lổi', 'phìm', 'ky', 'yeng', 'thưởn', 'suyên', 'vốt', 'êxe', 'thưồn', 'chía', 'lưôn', 'tụp', 'thưồn', 'gốp', 'lỉa', 'viếp', 'đưỡng', 'ngom', 'ngưồn', 'gile', 'khươu', 'ớp', 'nhạch', 'nhoảng', 'noan', 'rưồn', 'iớt', 'rươn', 'quàm', 'chin', 'yêm', 'ngẩy', 'liết', 'tráy', 'nhươm', 'dicgo', 'bượu', 'canôn', 'sưôn', 'bủi', 'gưồng', 'choe', 'khôm', 'shortcun', 'giắm', 'giắp', 'lưồng', 'kinhtê', 'mĩnh', 'ngưồi', 'bưồng', 'nhổi', 'saortcut', 'ưôn', 'sia', 'biêu', 'hindow', 'khôm', 'thôm', 'phâu', 'vưôn', 'tưu', 'đưống', 'hiêm', 'ngưỡi', 'rặp', 'ngãn', 'gớp', 'huôm', 'thuy', 'gốt', 'vụa', 'đướng', 'bặc', 'đíu', 'nhùm', 'chổ', 'mớt', 'thưộc', 'hẹt', 'tùi', 'nganh', 'nganh', 'sulô', 'lama', 'đặm', 'suật', 'rụ', 'ớp', 'lống', 'nía', 'giẫu', 'đàu', 'boát', 'choát', 'nhẳm', 'khùm', 'chổ', 'écrase', 'xoảy', 'đướng', 'đưôn', 'tưồi', 'chưôi', 'ngoản', 'cới', 'đụm', 'đệt', 'matfcơva', 'thẹt', 'ky', 'oằng', 'choê', 'rẩu', 'giế', 'rưồng', 'đụ', 'khuơm', 'bướt', 'xoam', 'khoáo', 'thựa', 'nghịa', 'rưốc', 'đết', 'dáp', 'sưồng', 'mễnh', 'ngưội', 'rưôm', 'trộp', 'soai', 'thưồn', 'đệch', 'phài', 'rổm', 'buddhiệt', 'hịt', 'ngưồi', 'nhẳm', 'hoẳng', 'ruớc', 'rặp', 'xuâng', 'uých', 'cũm', 'sốcket', 'thột', 'đụ', 'nắcte', 'ngưồi', 'khổi', 'xìm', 'chưông', 'đụ', 'meday', 'lògo', 'siên', 'rưồng', 'mụa', 'sớp', 'khôm', 'yển', 'đụ', 'thuy', 'khôm', 'lĩ', 'luột', 'truẩn', 'ruôm', 'gốt', 'firemall', 'tuẩn', 'đụ', 'nhèn', 'ngẩu', 'eortran', 'trới', 'buddbist', 'mụa', 'ngôm', 'giồn', 'mĩnh', 'lôn', 'xeng', 'đụ', 'cắcbon', 'đoa', 'sâng', 'hẹo', 'nùa', 'uởi', 'dưối', 'dắn', 'khễu', 'sem', 'giế', 'chưồng', 'fulitsu', 'khoẻo', 'hĩ', 'ênh', 'giót', 'ngoen', 'súm', 'ngẩy', 'nylôn', 'nhươm', 'ngôm', 'chéng', 'hắp', 'virut', 'nhẳm', 'ghèm', 'cờre', 'nía', 'phiêm', 'nhễu', 'truệ', 'thuyệt', 'trưột', 'nghéo', 'hĩ', 'choớc', 'hoẳng', 'nhươm', 'dụê', 'vứa', 'tưu', 'ngưồn', 'giột', 'cove', 'phíu', 'xiêng', 'đân', 'mụa', 'niêng']\n"
     ]
    }
   ],
   "source": [
    "print(wrong_words)"
   ]
  }
 ],
 "metadata": {
  "kernelspec": {
   "display_name": "Python [conda root]",
   "language": "python",
   "name": "conda-root-py"
  },
  "language_info": {
   "codemirror_mode": {
    "name": "ipython",
    "version": 3.0
   },
   "file_extension": ".py",
   "mimetype": "text/x-python",
   "name": "python",
   "nbconvert_exporter": "python",
   "pygments_lexer": "ipython3",
   "version": "3.5.3"
  }
 },
 "nbformat": 4,
 "nbformat_minor": 0
}